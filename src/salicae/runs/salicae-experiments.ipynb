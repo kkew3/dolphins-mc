{
 "cells": [
  {
   "cell_type": "code",
   "execution_count": 1,
   "metadata": {},
   "outputs": [],
   "source": [
    "import numpy as np\n",
    "import matplotlib.pyplot as plt\n",
    "import torch\n",
    "import torchvision.transforms as trans\n",
    "import scipy.ndimage.filters as filters\n",
    "\n",
    "import vmdata\n",
    "import more_trans\n",
    "from salicae import SaliencyCAE\n",
    "\n",
    "from ipywidgets import interact, interactive, fixed, interact_manual\n",
    "import ipywidgets as widgets\n",
    "\n",
    "%matplotlib inline"
   ]
  },
  {
   "cell_type": "markdown",
   "metadata": {},
   "source": [
    "# Load dataset"
   ]
  },
  {
   "cell_type": "code",
   "execution_count": 3,
   "metadata": {},
   "outputs": [],
   "source": [
    "root = vmdata.prepare_dataset_root(9, (8, 0, 0))\n",
    "dset = vmdata.VideoDataset(root)"
   ]
  },
  {
   "cell_type": "markdown",
   "metadata": {},
   "source": [
    "# Gaussian Blurs\n",
    "\n",
    "## Gaussian single frame"
   ]
  },
  {
   "cell_type": "code",
   "execution_count": 5,
   "metadata": {},
   "outputs": [],
   "source": [
    "def vfblur_g(i, std, tr):\n",
    "    orig = dset[i]\n",
    "    blurred = filters.gaussian_filter(dset[i], (std, std, 0.0), truncate=tr)\n",
    "    plt.figure(figsize=(18, 8))\n",
    "    plt.imshow(blurred)"
   ]
  },
  {
   "cell_type": "code",
   "execution_count": 6,
   "metadata": {},
   "outputs": [
    {
     "data": {
      "application/vnd.jupyter.widget-view+json": {
       "model_id": "2494af908fde45eb888c4eec45c5ad1f",
       "version_major": 2,
       "version_minor": 0
      },
      "text/plain": [
       "aW50ZXJhY3RpdmUoY2hpbGRyZW49KEJvdW5kZWRJbnRUZXh0KHZhbHVlPTgsIGRlc2NyaXB0aW9uPXUnZnJhbWUgSUQ6ICcsIG1heD01OTkpLCBGbG9hdFNsaWRlcih2YWx1ZT0xLjUsIGNvbnTigKY=\n"
      ]
     },
     "metadata": {},
     "output_type": "display_data"
    }
   ],
   "source": [
    "interact(vfblur_g,\n",
    "         i=widgets.BoundedIntText(value=8, min=0, max=599, step=1, description='frame ID: '),\n",
    "         std=widgets.FloatSlider(value=1.5, min=0.0, max=10.0, step=0.5, continuous_update=False),\n",
    "         tr=widgets.FloatSlider(value=4.0, min=0.0, max=20.0, step=1.0, continuous_update=False));"
   ]
  },
  {
   "cell_type": "markdown",
   "metadata": {},
   "source": [
    "## Uniform single frame"
   ]
  },
  {
   "cell_type": "code",
   "execution_count": 20,
   "metadata": {},
   "outputs": [],
   "source": [
    "def vfblur_u(i, w):\n",
    "    orig = dset[i]\n",
    "    blurred = filters.median_filter(dset[i], (w, w, 1))\n",
    "    plt.figure(figsize=(18, 8))\n",
    "    plt.imshow(blurred)"
   ]
  },
  {
   "cell_type": "code",
   "execution_count": 21,
   "metadata": {},
   "outputs": [
    {
     "data": {
      "application/vnd.jupyter.widget-view+json": {
       "model_id": "8d67ee61d1a04ed78dc925254bc5a1fa",
       "version_major": 2,
       "version_minor": 0
      },
      "text/plain": [
       "aW50ZXJhY3RpdmUoY2hpbGRyZW49KEJvdW5kZWRJbnRUZXh0KHZhbHVlPTgsIGRlc2NyaXB0aW9uPXUnZnJhbWUgSUQ6ICcsIG1heD01OTkpLCBJbnRTbGlkZXIodmFsdWU9MSwgY29udGludW/igKY=\n"
      ]
     },
     "metadata": {},
     "output_type": "display_data"
    }
   ],
   "source": [
    "interact(vfblur_u,\n",
    "         i=widgets.BoundedIntText(value=8, min=0, max=599, step=1, description='frame ID: '),\n",
    "         w=widgets.IntSlider(value=1, min=1, max=30, step=1, continuous_update=False));"
   ]
  },
  {
   "cell_type": "markdown",
   "metadata": {},
   "source": [
    "# Median of Blur\n",
    "\n",
    "## Median of Gaussian"
   ]
  },
  {
   "cell_type": "code",
   "execution_count": 4,
   "metadata": {},
   "outputs": [],
   "source": [
    "def vfmog(i, std, width, center_aligned):\n",
    "    if center_aligned:\n",
    "        window = [dset[j] for j in range(max(0, i-width//2), i+width//2)]\n",
    "    else:\n",
    "        window = [dset[j] for j in range(max(0, i-width), i)]\n",
    "    blurred_frames = [filters.gaussian_filter(x, (std, std, 0.0), truncate=4.0)\n",
    "                      for x in window]\n",
    "    median_blurred = np.round(np.median(np.stack(blurred_frames), axis=0)).astype(np.uint8)\n",
    "    plt.figure(figsize=(18, 8))\n",
    "    plt.imshow(median_blurred)"
   ]
  },
  {
   "cell_type": "code",
   "execution_count": 5,
   "metadata": {},
   "outputs": [
    {
     "data": {
      "application/vnd.jupyter.widget-view+json": {
       "model_id": "1f42f59d5d7a486b967b80308a65ca7a",
       "version_major": 2,
       "version_minor": 0
      },
      "text/plain": [
       "aW50ZXJhY3RpdmUoY2hpbGRyZW49KEJvdW5kZWRJbnRUZXh0KHZhbHVlPTExLCBkZXNjcmlwdGlvbj11J2ZyYW1lIElEOiAnLCBtYXg9NTk5LCBtaW49MSwgc3RlcD0xMCksIEZsb2F0U2xpZGXigKY=\n"
      ]
     },
     "metadata": {},
     "output_type": "display_data"
    }
   ],
   "source": [
    "interact(vfmog,\n",
    "         i=widgets.BoundedIntText(value=11, min=1, max=599, step=10, description='frame ID: '),\n",
    "         width=widgets.BoundedIntText(value=30, min=5, max=60, step=1, description='window: '),\n",
    "         std=widgets.FloatSlider(value=1.5, min=0.0, max=10.0, step=0.5, continuous_update=False),\n",
    "         center_aligned=widgets.Checkbox(value=True, description='Center aligned window'));"
   ]
  },
  {
   "cell_type": "markdown",
   "metadata": {},
   "source": [
    "## Median of Uniform"
   ]
  },
  {
   "cell_type": "code",
   "execution_count": 11,
   "metadata": {},
   "outputs": [],
   "source": [
    "def vfmou(i, w, width, center_aligned):\n",
    "    if center_aligned:\n",
    "        window = [dset[j] for j in range(max(0, i-width//2), i+width//2)]\n",
    "    else:\n",
    "        window = [dset[j] for j in range(max(0, i-width), i)]\n",
    "    blurred_frames = [filters.uniform_filter(x, (w, w, 1))\n",
    "                      for x in window]\n",
    "    median_blurred = np.round(np.median(np.stack(blurred_frames), axis=0)).astype(np.uint8)\n",
    "    plt.figure(figsize=(18, 8))\n",
    "    plt.imshow(median_blurred)"
   ]
  },
  {
   "cell_type": "code",
   "execution_count": 13,
   "metadata": {},
   "outputs": [
    {
     "data": {
      "application/vnd.jupyter.widget-view+json": {
       "model_id": "68941c7ac40646088c684f6504ac073c",
       "version_major": 2,
       "version_minor": 0
      },
      "text/plain": [
       "aW50ZXJhY3RpdmUoY2hpbGRyZW49KEJvdW5kZWRJbnRUZXh0KHZhbHVlPTgsIGRlc2NyaXB0aW9uPXUnZnJhbWUgSUQ6ICcsIG1heD01OTksIG1pbj0xKSwgSW50U2xpZGVyKHZhbHVlPTEsIGTigKY=\n"
      ]
     },
     "metadata": {},
     "output_type": "display_data"
    }
   ],
   "source": [
    "interact(vfmou,\n",
    "         i=widgets.BoundedIntText(value=8, min=1, max=599, step=1, description='frame ID: '),\n",
    "         w=widgets.IntSlider(value=1, min=1, max=30, step=1, description='width: '),\n",
    "         width=widgets.BoundedIntText(value=30, min=5, max=60, step=1, description='window: '),\n",
    "         center_aligned=widgets.Checkbox(value=True, description='Center aligned window'));"
   ]
  },
  {
   "cell_type": "markdown",
   "metadata": {},
   "source": [
    "# Mean of Blur\n",
    "\n",
    "## Mean of Gaussian"
   ]
  },
  {
   "cell_type": "code",
   "execution_count": 6,
   "metadata": {},
   "outputs": [],
   "source": [
    "def vfaog(i, std, width, center_aligned):\n",
    "    if center_aligned:\n",
    "        window = [dset[j] for j in range(max(0, i-width//2), i+width//2)]\n",
    "    else:\n",
    "        window = [dset[j] for j in range(max(0, i-width), i)]\n",
    "    blurred_frames = [filters.gaussian_filter(x, (std, std, 0.0), truncate=4.0)\n",
    "                      for x in window]\n",
    "    median_blurred = np.round(np.mean(np.stack(blurred_frames), axis=0)).astype(np.uint8)\n",
    "    plt.figure(figsize=(18, 8))\n",
    "    plt.imshow(median_blurred)"
   ]
  },
  {
   "cell_type": "code",
   "execution_count": 7,
   "metadata": {},
   "outputs": [
    {
     "data": {
      "application/vnd.jupyter.widget-view+json": {
       "model_id": "f7853adc39a54827a6d06690da45365c",
       "version_major": 2,
       "version_minor": 0
      },
      "text/plain": [
       "aW50ZXJhY3RpdmUoY2hpbGRyZW49KEJvdW5kZWRJbnRUZXh0KHZhbHVlPTExLCBkZXNjcmlwdGlvbj11J2ZyYW1lIElEOiAnLCBtYXg9NTk5LCBtaW49MSwgc3RlcD0xMCksIEZsb2F0U2xpZGXigKY=\n"
      ]
     },
     "metadata": {},
     "output_type": "display_data"
    }
   ],
   "source": [
    "interact(vfaog,\n",
    "         i=widgets.BoundedIntText(value=11, min=1, max=599, step=10, description='frame ID: '),\n",
    "         width=widgets.BoundedIntText(value=30, min=5, max=60, step=1, description='window: '),\n",
    "         std=widgets.FloatSlider(value=1.5, min=0.0, max=10.0, step=0.5, continuous_update=False),\n",
    "         center_aligned=widgets.Checkbox(value=True, description='Center aligned window'));"
   ]
  },
  {
   "cell_type": "markdown",
   "metadata": {},
   "source": [
    "# Release dataset resource (DONT FORGET)"
   ]
  },
  {
   "cell_type": "code",
   "execution_count": 8,
   "metadata": {},
   "outputs": [],
   "source": [
    "del dset"
   ]
  }
 ],
 "metadata": {
  "kernelspec": {
   "display_name": "Python 2",
   "language": "python",
   "name": "python2"
  },
  "language_info": {
   "codemirror_mode": {
    "name": "ipython",
    "version": 2
   },
   "file_extension": ".py",
   "mimetype": "text/x-python",
   "name": "python",
   "nbconvert_exporter": "python",
   "pygments_lexer": "ipython2",
   "version": "2.7.12"
  },
  "toc": {
   "base_numbering": 1,
   "nav_menu": {},
   "number_sections": true,
   "sideBar": true,
   "skip_h1_title": false,
   "title_cell": "Table of Contents",
   "title_sidebar": "Contents",
   "toc_cell": false,
   "toc_position": {},
   "toc_section_display": true,
   "toc_window_display": true
  }
 },
 "nbformat": 4,
 "nbformat_minor": 2
}
